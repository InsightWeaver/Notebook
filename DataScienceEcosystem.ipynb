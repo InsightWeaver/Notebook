{
 "cells": [
  {
   "cell_type": "markdown",
   "id": "221f9803",
   "metadata": {},
   "source": [
    "# Data Science Tools and Ecosystem"
   ]
  },
  {
   "cell_type": "markdown",
   "id": "6cfb82dc",
   "metadata": {},
   "source": [
    " ***In this notebook, Data Science Tools and Ecosystem are summarized."
   ]
  },
  {
   "cell_type": "code",
   "execution_count": null,
   "id": "3b5c796a",
   "metadata": {},
   "outputs": [],
   "source": [
    "***Objectives***\n",
    "- Python\n",
    "- R\n",
    "- SQL"
   ]
  },
  {
   "cell_type": "markdown",
   "id": "c4e9e117",
   "metadata": {},
   "source": [
    "# Some of the popular languages that Data Scientists use are:\n",
    "\n",
    "1. Python\n",
    "2. R\n",
    "3. SQL"
   ]
  },
  {
   "cell_type": "code",
   "execution_count": null,
   "id": "ef793583",
   "metadata": {},
   "outputs": [],
   "source": [
    "# Some of the commonly used libraries used by Data Scientists include:\n",
    "\n",
    "1. Pandas\n",
    "2. NumPy\n",
    "3. Matplotlib\n",
    "4. PyTorch\n",
    "\n"
   ]
  },
  {
   "cell_type": "markdown",
   "id": "0086a570",
   "metadata": {},
   "source": [
    "# Data Science Tools Tables: \n",
    "\n",
    "| Data Science Tools | \n",
    "| -------------------|\n",
    "| Python             |\n",
    "| SQL                |\n",
    "| R                  |\n",
    "\n"
   ]
  },
  {
   "cell_type": "markdown",
   "id": "f2944c03",
   "metadata": {},
   "source": [
    "### Below are a few examples of evaluating arithmetic expressions in Python"
   ]
  },
  {
   "cell_type": "markdown",
   "id": "bc72ed11",
   "metadata": {},
   "source": [
    "## This a simple arithmetic expression to mutiply then add integers\n",
    "\n",
    "(3*4)+5"
   ]
  },
  {
   "cell_type": "markdown",
   "id": "ee161757",
   "metadata": {},
   "source": [
    "# This will convert 200 minutes to hours by diving by 60\n",
    "(200)/60\n"
   ]
  },
  {
   "cell_type": "markdown",
   "id": "eca59bda",
   "metadata": {},
   "source": [
    "## Author\n",
    "\n",
    "***Valery Celestin*** "
   ]
  }
 ],
 "metadata": {
  "kernelspec": {
   "display_name": "Python 3 (ipykernel)",
   "language": "python",
   "name": "python3"
  },
  "language_info": {
   "codemirror_mode": {
    "name": "ipython",
    "version": 3
   },
   "file_extension": ".py",
   "mimetype": "text/x-python",
   "name": "python",
   "nbconvert_exporter": "python",
   "pygments_lexer": "ipython3",
   "version": "3.10.11"
  }
 },
 "nbformat": 4,
 "nbformat_minor": 5
}
